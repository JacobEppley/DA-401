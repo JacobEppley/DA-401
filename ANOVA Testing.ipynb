{
 "cells": [
  {
   "cell_type": "code",
   "execution_count": null,
   "id": "7e3dc769",
   "metadata": {},
   "outputs": [
    {
     "name": "stderr",
     "output_type": "stream",
     "text": [
      "/Users/jacobeppley/opt/anaconda3/lib/python3.9/site-packages/pandas/core/computation/expressions.py:21: UserWarning: Pandas requires version '2.8.4' or newer of 'numexpr' (version '2.8.3' currently installed).\n",
      "  from pandas.core.computation.check import NUMEXPR_INSTALLED\n",
      "/Users/jacobeppley/opt/anaconda3/lib/python3.9/site-packages/pandas/core/arrays/masked.py:60: UserWarning: Pandas requires version '1.3.6' or newer of 'bottleneck' (version '1.3.5' currently installed).\n",
      "  from pandas.core import (\n"
     ]
    }
   ],
   "source": [
    "#Import packages\n",
    "import pandas as pd\n",
    "import scipy\n",
    "import math\n",
    "import scipy.stats as stats\n",
    "from scipy.stats import f_oneway\n",
    "from statsmodels.stats.multicomp import pairwise_tukeyhsd"
   ]
  },
  {
   "cell_type": "code",
   "execution_count": 2,
   "id": "c52b39a6",
   "metadata": {},
   "outputs": [],
   "source": [
    "#Load data\n",
    "train_data = pd.read_csv(\"training_data.csv\")\n",
    "test_data = pd.read_csv(\"testing_data.csv\")\n",
    "del train_data[\"Unnamed: 0\"]\n",
    "del test_data[\"Unnamed: 0\"]\n",
    "\n",
    "geoid_list = []\n",
    "for geo in train_data[\"geoid\"]:\n",
    "    if geo not in geoid_list:\n",
    "        geoid_list.append(geo)"
   ]
  },
  {
   "cell_type": "code",
   "execution_count": 3,
   "id": "f8c1aa92",
   "metadata": {},
   "outputs": [],
   "source": [
    "#ANOVA Testing\n",
    "#Quarters\n",
    "counter = 0\n",
    "Q1_list = []\n",
    "Q2_list = []\n",
    "Q3_list = []\n",
    "Q4_list = []\n",
    "for id in geoid_list:\n",
    "    comp_data = train_data.drop(train_data[train_data['geoid'] != id].index)\n",
    "    comp_data.reset_index(inplace=True)\n",
    "    if len(comp_data[\"geoid\"]) >= 20:\n",
    "        for j, quart in enumerate(comp_data[\"call_quarter\"]):\n",
    "            if quart == \"Q1\":\n",
    "                Q1_list.append(comp_data[\"counts\"][j])\n",
    "            elif quart == \"Q2\":\n",
    "                Q2_list.append(comp_data[\"counts\"][j])\n",
    "            elif quart == \"Q3\":\n",
    "                Q3_list.append(comp_data[\"counts\"][j])\n",
    "            elif quart == \"Q4\":\n",
    "                Q4_list.append(comp_data[\"counts\"][j])"
   ]
  },
  {
   "cell_type": "code",
   "execution_count": 69,
   "id": "d908d0d7",
   "metadata": {},
   "outputs": [
    {
     "name": "stdout",
     "output_type": "stream",
     "text": [
      "6434\n",
      "7403\n",
      "7211\n",
      "6447\n"
     ]
    }
   ],
   "source": [
    "print(sum(Q1_list))\n",
    "print(sum(Q2_list))\n",
    "print(sum(Q3_list))\n",
    "print(sum(Q4_list))"
   ]
  },
  {
   "cell_type": "code",
   "execution_count": 64,
   "id": "8d0c57d9",
   "metadata": {},
   "outputs": [
    {
     "name": "stdout",
     "output_type": "stream",
     "text": [
      "2.2348037513025356\n",
      "2.4106154347118203\n",
      "2.5301754385964914\n",
      "2.3546384222059897\n"
     ]
    }
   ],
   "source": [
    "print(sum(Q1_list)/len(Q1_list))\n",
    "print(sum(Q2_list)/len(Q2_list))\n",
    "print(sum(Q3_list)/len(Q3_list))\n",
    "print(sum(Q4_list)/len(Q4_list))"
   ]
  },
  {
   "cell_type": "code",
   "execution_count": 65,
   "id": "0b7a472c",
   "metadata": {},
   "outputs": [
    {
     "data": {
      "text/plain": [
       "F_onewayResult(statistic=4.377093621920941, pvalue=0.004375202391107969)"
      ]
     },
     "execution_count": 65,
     "metadata": {},
     "output_type": "execute_result"
    }
   ],
   "source": [
    "f_oneway(Q1_list,Q2_list,Q3_list,Q4_list)"
   ]
  },
  {
   "cell_type": "code",
   "execution_count": 66,
   "id": "3e2daf35",
   "metadata": {},
   "outputs": [
    {
     "name": "stdout",
     "output_type": "stream",
     "text": [
      "Multiple Comparison of Means - Tukey HSD, FWER=0.05\n",
      "===================================================\n",
      "group1 group2 meandiff p-adj   lower  upper  reject\n",
      "---------------------------------------------------\n",
      "    Q1     Q2   0.1188 0.0958 -0.0133  0.251  False\n",
      "    Q1     Q3   0.1942 0.0012    0.06 0.3284   True\n",
      "    Q1     Q4   0.0828  0.399 -0.0531 0.2187  False\n",
      "    Q2     Q3   0.0753 0.4568 -0.0565 0.2072  False\n",
      "    Q2     Q4  -0.0361 0.8996 -0.1696 0.0975  False\n",
      "    Q3     Q4  -0.1114 0.1496  -0.247 0.0242  False\n",
      "---------------------------------------------------\n"
     ]
    }
   ],
   "source": [
    "tukey_test = pairwise_tukeyhsd(endog=train_data['counts'],groups=train_data['call_quarter'],alpha=0.05)\n",
    "print(tukey_test)"
   ]
  }
 ],
 "metadata": {
  "kernelspec": {
   "display_name": "base",
   "language": "python",
   "name": "python3"
  },
  "language_info": {
   "codemirror_mode": {
    "name": "ipython",
    "version": 3
   },
   "file_extension": ".py",
   "mimetype": "text/x-python",
   "name": "python",
   "nbconvert_exporter": "python",
   "pygments_lexer": "ipython3",
   "version": "3.9.13"
  }
 },
 "nbformat": 4,
 "nbformat_minor": 5
}

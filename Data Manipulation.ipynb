{
 "cells": [
  {
   "cell_type": "markdown",
   "id": "f7807391",
   "metadata": {},
   "source": [
    "This file contains the code related the data manipulation that will be used in the Code.ipynb file in this repository."
   ]
  },
  {
   "cell_type": "code",
   "execution_count": 1,
   "id": "7e3dc769",
   "metadata": {},
   "outputs": [
    {
     "name": "stderr",
     "output_type": "stream",
     "text": [
      "/Users/jacobeppley/opt/anaconda3/lib/python3.9/site-packages/pandas/core/computation/expressions.py:21: UserWarning: Pandas requires version '2.8.4' or newer of 'numexpr' (version '2.8.3' currently installed).\n",
      "  from pandas.core.computation.check import NUMEXPR_INSTALLED\n",
      "/Users/jacobeppley/opt/anaconda3/lib/python3.9/site-packages/pandas/core/arrays/masked.py:60: UserWarning: Pandas requires version '1.3.6' or newer of 'bottleneck' (version '1.3.5' currently installed).\n",
      "  from pandas.core import (\n"
     ]
    }
   ],
   "source": [
    "#Import packages\n",
    "import numpy as np\n",
    "import pandas as pd\n",
    "import scipy\n",
    "import math\n",
    "import matplotlib.pyplot as plt\n",
    "import geopandas as gpd\n",
    "from scipy.stats import f_oneway\n",
    "from statsmodels.stats.multicomp import pairwise_tukeyhsd"
   ]
  },
  {
   "cell_type": "code",
   "execution_count": null,
   "id": "e7c1a0c2",
   "metadata": {},
   "outputs": [],
   "source": [
    "#Load in data\n",
    "pa_data = pd.read_csv(\"PA_EMS_Data.csv\")\n",
    "block_shape = gpd.read_file(\"allegheny_county_census_block_groups_2016.zip\")"
   ]
  },
  {
   "cell_type": "code",
   "execution_count": 3,
   "id": "bf868678",
   "metadata": {},
   "outputs": [],
   "source": [
    "#Filtering to just overdoses\n",
    "pa_od = pa_data.drop(pa_data[pa_data['description_short'] != 'OVERDOSE'].index)\n",
    "pa_od.reset_index(inplace=True)\n",
    "del pa_od[\"index\"]\n",
    "del pa_od[\"_id\"]"
   ]
  },
  {
   "cell_type": "code",
   "execution_count": 4,
   "id": "b1321ebb",
   "metadata": {},
   "outputs": [],
   "source": [
    "#Grouping for analysis\n",
    "group_pa_od = pa_od.groupby(['geoid','call_year',\"call_quarter\"]).size().reset_index(name='counts')"
   ]
  },
  {
   "cell_type": "code",
   "execution_count": 15,
   "id": "9353e06a",
   "metadata": {},
   "outputs": [],
   "source": [
    "group_pa_od['geoid'] = group_pa_od.geoid.astype(int)\n",
    "group_pa_od['geoid'] = group_pa_od.geoid.astype(str)"
   ]
  },
  {
   "cell_type": "code",
   "execution_count": 16,
   "id": "8eddf577",
   "metadata": {},
   "outputs": [],
   "source": [
    "#Adding the geographies\n",
    "coord_list = []\n",
    "for i in range(len(group_pa_od[\"geoid\"])):\n",
    "    for j in range(len(block_shape[\"GEOID\"])):\n",
    "        if group_pa_od[\"geoid\"][i] == block_shape[\"GEOID\"][j]:\n",
    "            coord_list.append(block_shape[\"geometry\"][j])"
   ]
  },
  {
   "cell_type": "code",
   "execution_count": 17,
   "id": "8506ca49",
   "metadata": {},
   "outputs": [],
   "source": [
    "group_pa_od[\"geometry\"] = coord_list"
   ]
  },
  {
   "cell_type": "code",
   "execution_count": 18,
   "id": "f49d936c",
   "metadata": {},
   "outputs": [],
   "source": [
    "#Fiddling around to create testing and training data\n",
    "train_group_pa_od = group_pa_od[group_pa_od.call_year != 2024]\n",
    "test_group_pa_od = group_pa_od[group_pa_od.call_year == 2024]"
   ]
  },
  {
   "cell_type": "code",
   "execution_count": 19,
   "id": "7a16f5b9",
   "metadata": {},
   "outputs": [],
   "source": [
    "#More fiddling\n",
    "condition1 = test_group_pa_od['call_quarter'] == \"Q1\"\n",
    "rows1 = test_group_pa_od.loc[condition1, :]\n",
    "condition2 = test_group_pa_od['call_quarter'] == \"Q2\"\n",
    "rows2 = test_group_pa_od.loc[condition2, :]\n",
    "combined_train = [train_group_pa_od,rows1,rows2]\n",
    "train_data = pd.concat(combined_train)"
   ]
  },
  {
   "cell_type": "code",
   "execution_count": 20,
   "id": "2667dd67",
   "metadata": {},
   "outputs": [],
   "source": [
    "#Test data creation\n",
    "test_data = test_group_pa_od.drop(test_group_pa_od[test_group_pa_od['call_quarter'] != 'Q3'].index)"
   ]
  },
  {
   "cell_type": "code",
   "execution_count": 21,
   "id": "13036c0e",
   "metadata": {},
   "outputs": [],
   "source": [
    "train_data.reset_index(inplace=True)\n",
    "test_data.reset_index(inplace=True)"
   ]
  },
  {
   "cell_type": "code",
   "execution_count": 22,
   "id": "70e64c1d",
   "metadata": {},
   "outputs": [],
   "source": [
    "del train_data[\"index\"]\n",
    "del test_data[\"index\"]"
   ]
  },
  {
   "cell_type": "code",
   "execution_count": 23,
   "id": "1eface1a",
   "metadata": {},
   "outputs": [],
   "source": [
    "#Fiddling to get a good format\n",
    "train_data['call_year'] = train_data.call_year.astype(str)\n",
    "train_data[\"year_quarter\"] = train_data[\"call_year\"] + \" \" + train_data[\"call_quarter\"]\n",
    "test_data['call_year'] = test_data.call_year.astype(str)\n",
    "test_data[\"year_quarter\"] = test_data[\"call_year\"] + \" \" + test_data[\"call_quarter\"]"
   ]
  },
  {
   "cell_type": "code",
   "execution_count": 24,
   "id": "55af8467",
   "metadata": {},
   "outputs": [
    {
     "data": {
      "text/html": [
       "<div>\n",
       "<style scoped>\n",
       "    .dataframe tbody tr th:only-of-type {\n",
       "        vertical-align: middle;\n",
       "    }\n",
       "\n",
       "    .dataframe tbody tr th {\n",
       "        vertical-align: top;\n",
       "    }\n",
       "\n",
       "    .dataframe thead th {\n",
       "        text-align: right;\n",
       "    }\n",
       "</style>\n",
       "<table border=\"1\" class=\"dataframe\">\n",
       "  <thead>\n",
       "    <tr style=\"text-align: right;\">\n",
       "      <th></th>\n",
       "      <th>geoid</th>\n",
       "      <th>call_year</th>\n",
       "      <th>call_quarter</th>\n",
       "      <th>counts</th>\n",
       "      <th>geometry</th>\n",
       "      <th>year_quarter</th>\n",
       "    </tr>\n",
       "  </thead>\n",
       "  <tbody>\n",
       "    <tr>\n",
       "      <th>0</th>\n",
       "      <td>420030103001</td>\n",
       "      <td>2015</td>\n",
       "      <td>Q1</td>\n",
       "      <td>2</td>\n",
       "      <td>POLYGON ((-79.9965753170118 40.4329079681144, ...</td>\n",
       "      <td>2015 Q1</td>\n",
       "    </tr>\n",
       "    <tr>\n",
       "      <th>1</th>\n",
       "      <td>420030103001</td>\n",
       "      <td>2015</td>\n",
       "      <td>Q2</td>\n",
       "      <td>2</td>\n",
       "      <td>POLYGON ((-79.9965753170118 40.4329079681144, ...</td>\n",
       "      <td>2015 Q2</td>\n",
       "    </tr>\n",
       "    <tr>\n",
       "      <th>2</th>\n",
       "      <td>420030103001</td>\n",
       "      <td>2015</td>\n",
       "      <td>Q3</td>\n",
       "      <td>5</td>\n",
       "      <td>POLYGON ((-79.9965753170118 40.4329079681144, ...</td>\n",
       "      <td>2015 Q3</td>\n",
       "    </tr>\n",
       "    <tr>\n",
       "      <th>3</th>\n",
       "      <td>420030103001</td>\n",
       "      <td>2015</td>\n",
       "      <td>Q4</td>\n",
       "      <td>9</td>\n",
       "      <td>POLYGON ((-79.9965753170118 40.4329079681144, ...</td>\n",
       "      <td>2015 Q4</td>\n",
       "    </tr>\n",
       "    <tr>\n",
       "      <th>4</th>\n",
       "      <td>420030103001</td>\n",
       "      <td>2016</td>\n",
       "      <td>Q1</td>\n",
       "      <td>7</td>\n",
       "      <td>POLYGON ((-79.9965753170118 40.4329079681144, ...</td>\n",
       "      <td>2016 Q1</td>\n",
       "    </tr>\n",
       "    <tr>\n",
       "      <th>...</th>\n",
       "      <td>...</td>\n",
       "      <td>...</td>\n",
       "      <td>...</td>\n",
       "      <td>...</td>\n",
       "      <td>...</td>\n",
       "      <td>...</td>\n",
       "    </tr>\n",
       "    <tr>\n",
       "      <th>18968</th>\n",
       "      <td>420039806001</td>\n",
       "      <td>2024</td>\n",
       "      <td>Q2</td>\n",
       "      <td>11</td>\n",
       "      <td>POLYGON ((-80.0373403311079 40.4611129710906, ...</td>\n",
       "      <td>2024 Q2</td>\n",
       "    </tr>\n",
       "    <tr>\n",
       "      <th>18969</th>\n",
       "      <td>420039807001</td>\n",
       "      <td>2024</td>\n",
       "      <td>Q2</td>\n",
       "      <td>1</td>\n",
       "      <td>POLYGON ((-80.0285033269786 40.4439509681772, ...</td>\n",
       "      <td>2024 Q2</td>\n",
       "    </tr>\n",
       "    <tr>\n",
       "      <th>18970</th>\n",
       "      <td>420039808001</td>\n",
       "      <td>2024</td>\n",
       "      <td>Q2</td>\n",
       "      <td>1</td>\n",
       "      <td>POLYGON ((-79.9734093100364 40.4342729693668, ...</td>\n",
       "      <td>2024 Q2</td>\n",
       "    </tr>\n",
       "    <tr>\n",
       "      <th>18971</th>\n",
       "      <td>420039812001</td>\n",
       "      <td>2024</td>\n",
       "      <td>Q2</td>\n",
       "      <td>7</td>\n",
       "      <td>POLYGON ((-80.0180713241808 40.4488909698489, ...</td>\n",
       "      <td>2024 Q2</td>\n",
       "    </tr>\n",
       "    <tr>\n",
       "      <th>18972</th>\n",
       "      <td>420039822001</td>\n",
       "      <td>2024</td>\n",
       "      <td>Q2</td>\n",
       "      <td>3</td>\n",
       "      <td>POLYGON ((-79.9633633075459 40.4443079713274, ...</td>\n",
       "      <td>2024 Q2</td>\n",
       "    </tr>\n",
       "  </tbody>\n",
       "</table>\n",
       "<p>18973 rows × 6 columns</p>\n",
       "</div>"
      ],
      "text/plain": [
       "              geoid call_year call_quarter  counts  \\\n",
       "0      420030103001      2015           Q1       2   \n",
       "1      420030103001      2015           Q2       2   \n",
       "2      420030103001      2015           Q3       5   \n",
       "3      420030103001      2015           Q4       9   \n",
       "4      420030103001      2016           Q1       7   \n",
       "...             ...       ...          ...     ...   \n",
       "18968  420039806001      2024           Q2      11   \n",
       "18969  420039807001      2024           Q2       1   \n",
       "18970  420039808001      2024           Q2       1   \n",
       "18971  420039812001      2024           Q2       7   \n",
       "18972  420039822001      2024           Q2       3   \n",
       "\n",
       "                                                geometry year_quarter  \n",
       "0      POLYGON ((-79.9965753170118 40.4329079681144, ...      2015 Q1  \n",
       "1      POLYGON ((-79.9965753170118 40.4329079681144, ...      2015 Q2  \n",
       "2      POLYGON ((-79.9965753170118 40.4329079681144, ...      2015 Q3  \n",
       "3      POLYGON ((-79.9965753170118 40.4329079681144, ...      2015 Q4  \n",
       "4      POLYGON ((-79.9965753170118 40.4329079681144, ...      2016 Q1  \n",
       "...                                                  ...          ...  \n",
       "18968  POLYGON ((-80.0373403311079 40.4611129710906, ...      2024 Q2  \n",
       "18969  POLYGON ((-80.0285033269786 40.4439509681772, ...      2024 Q2  \n",
       "18970  POLYGON ((-79.9734093100364 40.4342729693668, ...      2024 Q2  \n",
       "18971  POLYGON ((-80.0180713241808 40.4488909698489, ...      2024 Q2  \n",
       "18972  POLYGON ((-79.9633633075459 40.4443079713274, ...      2024 Q2  \n",
       "\n",
       "[18973 rows x 6 columns]"
      ]
     },
     "execution_count": 24,
     "metadata": {},
     "output_type": "execute_result"
    }
   ],
   "source": [
    "train_data"
   ]
  },
  {
   "cell_type": "code",
   "execution_count": null,
   "id": "ae2a2d19",
   "metadata": {},
   "outputs": [],
   "source": [
    "#Run here to save CSV files\n",
    "#Done so we don't have to run the 5+ minutes of code every time for the geography assignment\n",
    "pd.train_data.to_csv(\"train_data.csv\")\n",
    "pd.test_data.to_csv(\"test_data.csv\")"
   ]
  }
 ],
 "metadata": {
  "kernelspec": {
   "display_name": "base",
   "language": "python",
   "name": "python3"
  },
  "language_info": {
   "codemirror_mode": {
    "name": "ipython",
    "version": 3
   },
   "file_extension": ".py",
   "mimetype": "text/x-python",
   "name": "python",
   "nbconvert_exporter": "python",
   "pygments_lexer": "ipython3",
   "version": "3.9.13"
  }
 },
 "nbformat": 4,
 "nbformat_minor": 5
}
